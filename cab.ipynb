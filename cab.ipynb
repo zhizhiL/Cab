{
 "cells": [
  {
   "cell_type": "code",
   "execution_count": 65,
   "metadata": {},
   "outputs": [],
   "source": [
    "# Week2 Assignment\n",
    "# first load .csv files \n",
    "import pandas as pd \n",
    "from scipy.stats import chisquare\n",
    "import matplotlib.pyplot as plt\n",
    "from matplotlib.ticker import StrMethodFormatter\n",
    "import numpy as np\n",
    "cabData = pd.read_csv(\"Cab_Data.csv\") \n",
    "cabData = cabData.drop_duplicates(subset=[\"Transaction ID\"], keep='first')\n",
    "cabData = cabData.dropna()\n",
    "\n",
    "custData = pd.read_csv(\"Customer_ID.csv\") \n",
    "custData = custData.drop_duplicates(subset=[\"Customer ID\"], keep='first')\n",
    "custData = custData.dropna()\n",
    "\n",
    "transData = pd.read_csv(\"Transaction_ID.csv\") \n",
    "transData = transData.drop_duplicates(subset=[\"Transaction ID\"], keep='first')\n",
    "transData = transData.dropna()"
   ]
  },
  {
   "cell_type": "code",
   "execution_count": 24,
   "metadata": {},
   "outputs": [],
   "source": [
    "# First Step: descriptive analysis on cab ride data\n",
    "cabData['Profit'] = cabData['Price Charged'] - cabData['Cost of Trip']\n",
    "cabData['Profit per KM'] = cabData['Profit'] / cabData['KM Travelled']\n",
    "cabData['Profit Percentage'] = cabData['Profit'] / cabData['Cost of Trip']\n",
    "pinkCab = cabData[cabData['Company'] == 'Pink Cab']\n",
    "yellowCab = cabData[cabData['Company'] == 'Yellow Cab']\n",
    "company = ['Pink','Yellow']\n",
    "\n",
    "totalProfit = dict(zip(company,[df['Profit'].sum() for df in [pinkCab,yellowCab]]))\n",
    "totalRide = dict(zip(company,[len(df.index) for df in [pinkCab,yellowCab]]))\n",
    "totalKM = dict(zip(company,[df['KM Travelled'].sum() for df in [pinkCab,yellowCab]]))\n",
    "profPerRide = {company[i]: (list(totalProfit.values())[i] / list(totalRide.values())[i]) for i in range(len(company))}\n",
    "profPerKM = {company[i]: (list(totalProfit.values())[i] / list(totalKM.values())[i]) for i in range(len(company))}\n",
    "meanProfPerc =  dict(zip(company,[df['Profit Percentage'].mean() for df in [pinkCab,yellowCab]]))\n",
    "\n",
    "## add city categories"
   ]
  },
  {
   "cell_type": "code",
   "execution_count": 37,
   "metadata": {},
   "outputs": [
    {
     "name": "stdout",
     "output_type": "stream",
     "text": [
      "Gender      Female    Male     All\n",
      "Company                           \n",
      "Pink Cab     37480   47231   84711\n",
      "Yellow Cab  116000  158681  274681\n",
      "All         153480  205912  359392\n"
     ]
    },
    {
     "data": {
      "image/png": "[encoded data removed]",
      "text/plain": [
       "<Figure size 432x288 with 1 Axes>"
      ]
     },
     "metadata": {
      "needs_background": "light"
     },
     "output_type": "display_data"
    }
   ],
   "source": [
    "# Second Step: descriptive analysis on customer data and merge with cabData according to transaction ID and customer ID\n",
    "# then drop the 'Customer ID' feature since it has no indication anymore\n",
    "from codecs import getencoder\n",
    "\n",
    "\n",
    "transCusID = pd.merge(transData, custData, on='Customer ID', how='inner')\n",
    "rideCustomer = pd.merge(cabData,transCusID, on='Transaction ID', how='inner')\n",
    "rideCustomer = rideCustomer.drop(columns=['Customer ID'])\n",
    "pinkCab = rideCustomer[rideCustomer['Company'] == 'Pink Cab']\n",
    "yellowCab = rideCustomer[rideCustomer['Company'] == 'Yellow Cab']\n",
    "\n",
    "femaleRiders = rideCustomer[rideCustomer['Gender'] == 'Female']\n",
    "maleRiders = rideCustomer[rideCustomer['Gender'] == 'Male']\n",
    "groupGender = rideCustomer.groupby(['Company', 'Gender']).size()\n",
    "\n",
    "# print(pinkCab[\"Gender\"].value_counts(normalize=True))\n",
    "# print(yellowCab[\"Gender\"].value_counts(normalize=True))\n",
    "# print(femaleRiders[\"Company\"].value_counts(normalize=True))\n",
    "# print(maleRiders[\"Company\"].value_counts(normalize=True))\n",
    "\n",
    "# create a contingency table with features of Gender and Company\n",
    "table_CompGend = pd.crosstab(index=rideCustomer['Company'], columns=rideCustomer['Gender'], margins=True)\n",
    "print(table_CompGend)\n",
    "barplot = table_CompGend.plot.bar()"
   ]
  },
  {
   "cell_type": "code",
   "execution_count": 77,
   "metadata": {},
   "outputs": [
    {
     "name": "stdout",
     "output_type": "stream",
     "text": [
      "The null hypothesis is rejected\n"
     ]
    }
   ],
   "source": [
    "# Correlation test between Gender and Company\n",
    "# First, compute the expected distribution, assuming that H0 (the null hypothesis) holds\n",
    "gender = ['female','male']\n",
    "genderPerc = dict(zip(gender,[(len(df.index)/len(rideCustomer.index)) for df in [femaleRiders,maleRiders]]))\n",
    "companyPerc = dict(zip(company,[(len(df.index)/len(rideCustomer.index)) for df in [pinkCab,yellowCab]]))\n",
    "femalePerc, malePerc = [list(genderPerc.values())[i] for i in range(len(genderPerc))]\n",
    "pinkPerc, yellowPerc = [list(companyPerc.values())[i] for i in range(len(companyPerc))]\n",
    "H0_compgend = pd.DataFrame(np.array([[pinkPerc*femalePerc, pinkPerc*malePerc], \n",
    "                             [yellowPerc*femalePerc, yellowPerc*malePerc]]), columns=['female', 'male'], index=['pink','yellow'])\n",
    "H0_compgend = H0_compgend*len(rideCustomer.index)\n",
    "\n",
    "H1_array = np.ravel(pd.DataFrame(table_CompGend).to_numpy()[:2,:2])\n",
    "H0_array = np.ravel(pd.DataFrame(H0_compgend).to_numpy())\n",
    "chi2,pvalue = chisquare(H1_array,f_exp = H0_array)\n",
    "if pvalue < 0.05: print('The null hypothesis is rejected')\n",
    "\n",
    "\n"
   ]
  }
 ],
 "metadata": {
  "language_info": {
   "name": "python"
  },
  "orig_nbformat": 4
 },
 "nbformat": 4,
 "nbformat_minor": 2
}
